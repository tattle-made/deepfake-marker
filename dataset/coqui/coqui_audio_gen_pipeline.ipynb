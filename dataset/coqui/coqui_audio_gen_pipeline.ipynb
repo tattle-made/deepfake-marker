{
 "cells": [
  {
   "cell_type": "code",
   "execution_count": 2,
   "id": "037f711d-b9da-42e6-bb20-a10548d1b8ff",
   "metadata": {},
   "outputs": [],
   "source": [
    "from TTS.api import TTS\n",
    "import os\n",
    "from pydub import AudioSegment\n",
    "from pytubefix import YouTube"
   ]
  },
  {
   "cell_type": "markdown",
   "id": "d21f93c6-df12-4274-b849-a7221bfbfb89",
   "metadata": {},
   "source": [
    "### Loading the model"
   ]
  },
  {
   "cell_type": "code",
   "execution_count": 3,
   "id": "ab7830a0-f25c-4247-ac3b-dbe2b049dafe",
   "metadata": {},
   "outputs": [],
   "source": [
    "tts = TTS(\"tts_models/multilingual/multi-dataset/xtts_v2\", gpu=True)"
   ]
  },
  {
   "cell_type": "markdown",
   "id": "843f8809-b08e-448b-be0b-5f14747e8a2a",
   "metadata": {},
   "source": [
    "### Downloading voice to clone"
   ]
  },
  {
   "cell_type": "code",
   "execution_count": 4,
   "id": "9480b525-357e-404e-95fb-47e3c54e00c3",
   "metadata": {},
   "outputs": [],
   "source": [
    "ROOT_DIR = \"/\"\n",
    "\n",
    "youtube_url = \"https://www.youtube.com/watch?v=pyy4x-m3PAA\"\n",
    "yt = YouTube(youtube_url)\n",
    "audio_stream = yt.streams.filter(only_audio=True).first()\n",
    "audio_stream.download(output_path=ROOT_DIR, filename=\"audio.mp4\")\n",
    "\n",
    "def mp4_to_wav(mp4_file_path, output_dir, audio=None, out_file=\"audio.wav\", frame_rate=48000):\n",
    "    wav_file_path = os.path.join(output_dir, out_file)\n",
    "    if not audio:\n",
    "        audio = AudioSegment.from_file(mp4_file_path, format=\"mp4\")\n",
    "    audio.set_frame_rate(frame_rate).export(\n",
    "        wav_file_path, format=\"wav\"\n",
    "    )\n",
    "    return wav_file_path\n",
    "\n",
    "audio = AudioSegment.from_file(f\"{ROOT_DIR}/audio.mp4\", format=\"mp4\")[1000:15000]\n",
    "\n",
    "mp4_to_wav(mp4_file_path=None, audio=audio, output_dir=ROOT_DIR)"
   ]
  },
  {
   "cell_type": "markdown",
   "id": "0b95f00a-0286-4028-b81b-87989ff37b03",
   "metadata": {},
   "source": [
    "### Defining prompts"
   ]
  },
  {
   "cell_type": "code",
   "execution_count": 5,
   "id": "c560f926-d55f-4751-8811-3e0e70ea54be",
   "metadata": {},
   "outputs": [],
   "source": [
    "texts = [\"कभी-कभी लगता है जैसे ये ज़िंदगी एक पहेली है... हर मोड़ पर एक नया सवाल, एक नया इम्तिहान। हम भागते रहते हैं, कुछ पाने की चाह में, और जो हमारे पास है... उसे भूल जाते हैं। अजीब बात है ना? जितना करीब जाते हैं मंज़िल के, उतनी ही दूर होती दिखती है। कई बार तो ऐसा लगता है कि हम ख़ुद से ही भाग रहे हैं। दूसरों को खुश करने में, अपनी असल खुशी कहाँ छूट गई, पता ही नहीं चला। पर शायद... ज़िंदगी का असली मतलब रास्ते में छुपा है, न कि उस मंज़िल में। बस एक बात समझ ली है — गिरना, संभलना, और फिर से खड़ा होना... यही असली जीत है। डर लगे तो रुक जाना ठीक है, लेकिन हार मान लेना... ये कभी ठीक नहीं। क्यूँकि हर नई शुरुआत, कहीं न कहीं... एक पुराने अंत से ही निकलती है।\",\n",
    "         \"अजीब है ना ये ज़िंदगी? हर कोई भाग रहा है... कोई नाम के पीछे, कोई पैसे के पीछे, तो कोई प्यार के पीछे। और हम सोचते हैं कि जो मिल जाएगा, सब ठीक हो जाएगा। लेकिन जो सच में जरूरी है... वो कभी हमारी लिस्ट में होता ही नहीं — सुकून। कभी खुद से सवाल किया है कि आख़िरी बार कब अपने लिए जिया था? बिना किसी वजह के... बिना किसी उम्मीद के? सुबह सूरज की रोशनी को महसूस किया था? बारिश की बूंदों को हथेली पर थामा था? नहीं किया ना? क्योंकि हम हर चीज़ को प्लान करने में लगे हैं। पर ज़िंदगी ना... ये किसी प्लान की मोहताज नहीं। ये वही पल है, जो अभी हमारे सामने है। इसे जी लो... क्योंकि कल का वादा किसी ने नहीं किया। और शायद, यही पल... सबसे कीमती है।\",\n",
    "         \"हर सुबह एक नया मौका लेकर आती है। एक ऐसा मौका, जब आप खुद को साबित कर सकते हैं। मुझे पता है कि जिंदगी आसान नहीं होती। कभी हार, कभी नाकामी, तो कभी उम्मीदों का टूटना। लेकिन क्या हम इसलिए रुक जाएँ? नहीं। सपने देखने की हिम्मत करो, क्योंकि अगर सपना बड़ा होगा तो मेहनत भी बड़ी करनी पड़ेगी। मुझे पता है रास्ता कठिन होगा, लोग हँसेंगे, सवाल उठाएँगे। लेकिन मेरे पास एक जवाब है—मेहनत। जितना नीचे गिराओगे, उतनी ही ताकत से उठूँगा। हर मुश्किल को पार करूँगा, हर दर्द को सहूँगा, क्योंकि मुझे अपने आप पर यकीन है। लोग कहते हैं कि भाग्य तय करता है कि हमें क्या मिलता है। पर मुझे लगता है, मेहनत भाग्य को भी बदल सकती है। आज अगर मैं संघर्ष कर रहा हूँ, तो कल जीत मेरी होगी। \",\n",
    "         \"कभी सोचा था कि दोस्ती हमारी सबसे बड़ी ताकत होगी। हर पल, हर खुशी हमने साथ जी थी। स्कूल की वो छुट्टियां, बेमतलब की बातें, घंटों हंसी... सबकुछ याद है। तुम वो दोस्त थे जिसके बिना मैं कुछ भी नहीं था। पर पता नहीं कब चीजें बदल गईं। एक छोटी-सी बात ने इतना बड़ा मोड़ कैसे ले लिया? वो भरोसा जो पत्थर की तरह मजबूत था, अचानक रेत की तरह बिखर गया। मुझे लगा था कि दोस्ती हर जंग जीत सकती है, पर शायद मैं गलत था। मैंने तुम्हें मनाने की कोशिश की, समझाने की भी। पर जवाब में सिर्फ खामोशी मिली। तुम्हारी वो चुप्पी आज भी कानों में गूंजती है। अब सोचता हूँ, क्या हम फिर से वैसे हो सकते हैं जैसे पहले थे? क्या पुरानी बातों को भूलकर फिर से दोस्त बन सकते हैं? या ये दर्द हमेशा रहेगा?\",\n",
    "         \"तुम्हें देखता हूँ, तो ऐसा लगता है जैसे वक्त ठहर गया है। पहली बार जब तुम्हें देखा था, तब भी दिल ने कुछ महसूस किया था। पर मैंने उसे नज़रअंदाज़ कर दिया। दोस्ती की सीमा को कभी लांघने की हिम्मत नहीं हुई। पर अब दिल को समझाना मुश्किल हो गया है। हर बार जब तुम मुस्कुराती हो, लगता है जैसे मेरी पूरी दुनिया रोशनी से भर गई है। जब तुम उदास होती हो, तो दिल में अजीब-सा खालीपन महसूस होता है। मैं नहीं जानता कि ये कब हुआ, कैसे हुआ... पर हुआ ज़रूर है। तुम्हारे बिना ज़िंदगी अधूरी लगती है। मैं जानता हूँ, ये कह देना आसान नहीं है। डर है कि कहीं तुम्हें खो न दूँ। पर सच तो ये है कि अगर मैंने कहा नहीं, तो शायद मैं खुद को कभी माफ़ नहीं कर पाऊंगा। तो आज हिम्मत करके कहता हूँ—मैं तुमसे प्यार करता हूँ।\",\n",
    "            \"Sometimes it feels like life is a puzzle... every turn brings a new question, a new test. We keep running, chasing something, and in that chase, we forget what we already have. Strange, isn’t it? The closer we get to the destination, the farther it seems. Sometimes it feels like we’re running away from ourselves. In trying to please everyone else, we lost track of our own happiness. Maybe life isn’t about the destination at all. Maybe the real meaning lies in the journey itself. One thing I’ve learned — falling, getting back up, and moving forward… that’s the true victory. It’s okay to pause when you’re scared, but giving up? That’s never okay. Because every new beginning comes from some old ending.\",\n",
    "    \n",
    "    \"Isn’t life strange? Everyone’s running… some after fame, some after money, and some chasing love. We keep telling ourselves that once we achieve it, everything will be perfect. But the truth is, the most important thing never even makes it to our list — peace. Have you ever asked yourself, when was the last time you truly lived for yourself? Without any reason, without any expectations? When was the last time you felt the warmth of the morning sun or caught raindrops on your palm? You didn’t, right? Because we’re so busy planning everything. But life doesn’t follow any plan. Life is this moment, right in front of you. Live it… because tomorrow isn’t promised. And maybe, just maybe, this moment is the most precious one.\",\n",
    "    \n",
    "    \"Every morning brings a new chance. A chance to prove yourself. I know life isn’t easy. There’s failure, rejection, broken hopes. But does that mean we should stop? No. Dare to dream big because big dreams demand hard work. The path will be tough. People will laugh, question you, pull you down. But I have one answer — hard work. The harder you push me down, the stronger I’ll rise. I’ll cross every hurdle, endure every pain, because I believe in myself. People say destiny decides what we get. I say hard work can change even destiny. If I’m struggling today, it’s because tomorrow’s victory will be mine.\",\n",
    "    \n",
    "    \"I once thought our friendship was our greatest strength. Every moment, every joy, we shared together. The holidays, the endless talks, the laughter... it’s all still fresh in my mind. You were that friend I couldn’t live without. But somewhere along the way, things changed. A small misunderstanding turned into something big. The trust that was once as strong as a rock crumbled like sand. I believed friendship could conquer anything, but maybe I was wrong. I tried to fix things, tried to explain, but all I got in return was silence. That silence still echoes. I wonder... can we ever go back to being what we were? Can we forget the past and be friends again? Or will this pain stay forever?\",\n",
    "    \n",
    "    \"When I see you, it feels like time stops. Even the first time I saw you, my heart felt something. But I ignored it. I never dared to cross the line of friendship. But now it’s hard to control. Every time you smile, my world lights up. And when you’re sad, it feels like an emptiness inside me. I don’t know when it happened or how… but it did. Life feels incomplete without you. I know it’s not easy to say it. I’m scared I might lose you. But if I don’t say it, I’ll never forgive myself. So today, I’ll gather all my courage and say it — I love you.\"]"
   ]
  },
  {
   "cell_type": "markdown",
   "id": "9d8805db-260e-4168-920b-7e2302c2168b",
   "metadata": {},
   "source": [
    "### Audio File Generation loop"
   ]
  },
  {
   "cell_type": "code",
   "execution_count": 6,
   "id": "31d31fdd-330f-4e53-b885-d60d1a60aa54",
   "metadata": {},
   "outputs": [],
   "source": [
    "for index, text in enumerate(texts):\n",
    "    wav = tts.tts_to_file(\n",
    "        text=text,\n",
    "        speaker_wav=\"/audio.wav\",\n",
    "        language=\"en\",\n",
    "        file_path=f\"/{index}_kejriwal_english.wav\"\n",
    "    )\n"
   ]
  },
  {
   "cell_type": "code",
   "execution_count": null,
   "id": "5e03fb58-eef9-4141-ad06-d4c3aee0027a",
   "metadata": {},
   "outputs": [],
   "source": []
  }
 ],
 "metadata": {
  "kernelspec": {
   "display_name": "Python 3 (ipykernel)",
   "language": "python",
   "name": "python3"
  },
  "language_info": {
   "codemirror_mode": {
    "name": "ipython",
    "version": 3
   },
   "file_extension": ".py",
   "mimetype": "text/x-python",
   "name": "python",
   "nbconvert_exporter": "python",
   "pygments_lexer": "ipython3",
   "version": "3.10.12"
  }
 },
 "nbformat": 4,
 "nbformat_minor": 5
}
